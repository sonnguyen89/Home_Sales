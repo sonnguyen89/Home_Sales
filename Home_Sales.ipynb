{
 "cells": [
  {
   "cell_type": "code",
   "metadata": {
    "colab": {
     "base_uri": "https://localhost:8080/"
    },
    "id": "a_KW73O2e3dw",
    "outputId": "fa5fd2b3-e2de-491b-ee1c-405317ba7ebc",
    "ExecuteTime": {
     "end_time": "2024-07-23T10:30:57.481138Z",
     "start_time": "2024-07-23T10:30:57.477591Z"
    }
   },
   "source": [
    "# Import findspark and initialise. \n",
    "import findspark\n",
    "findspark.init()"
   ],
   "outputs": [],
   "execution_count": 5
  },
  {
   "cell_type": "code",
   "metadata": {
    "id": "2XbWNf1Te5fM",
    "ExecuteTime": {
     "end_time": "2024-07-23T10:30:59.816537Z",
     "start_time": "2024-07-23T10:30:58.583403Z"
    }
   },
   "source": [
    "# Import packages\n",
    "from pyspark.sql import SparkSession\n",
    "import time\n",
    "\n",
    "# Create a SparkSession\n",
    "spark = SparkSession.builder.appName(\"SparkSQL\").getOrCreate()"
   ],
   "outputs": [],
   "execution_count": 6
  },
  {
   "cell_type": "code",
   "metadata": {
    "colab": {
     "base_uri": "https://localhost:8080/"
    },
    "id": "wOJqxG_RPSwp",
    "outputId": "7857ef9f-5b04-405d-f5aa-e535dfe7870c",
    "ExecuteTime": {
     "end_time": "2024-07-23T10:38:39.386464Z",
     "start_time": "2024-07-23T10:37:56.713959Z"
    }
   },
   "source": [
    "# 1. Read in the AWS S3 bucket into a DataFrame.\n",
    "from pyspark import SparkFiles\n",
    "url = \"https://2u-data-curriculum-team.s3.amazonaws.com/dataviz-classroom/v1.2/22-big-data/home_sales_revised.csv\"\n",
    "#Add the CSV file to the Spark context \n",
    "spark.sparkContext.addFile(url)\n",
    "# Read the CSV file into a DataFrame\n",
    "df = spark.read.csv(SparkFiles.get(\"home_sales_revised.csv\"), header=True, inferSchema=True)"
   ],
   "outputs": [
    {
     "name": "stderr",
     "output_type": "stream",
     "text": [
      "                                                                                \r"
     ]
    }
   ],
   "execution_count": 9
  },
  {
   "cell_type": "code",
   "metadata": {
    "id": "RoljcJ7WPpnm",
    "ExecuteTime": {
     "end_time": "2024-07-23T10:43:11.525780Z",
     "start_time": "2024-07-23T10:43:11.487501Z"
    }
   },
   "source": [
    "# 2. Create a temporary view of the DataFrame.\n",
    "df.createOrReplaceTempView(\"home_sales\")\n"
   ],
   "outputs": [],
   "execution_count": 13
  },
  {
   "cell_type": "code",
   "metadata": {
    "colab": {
     "base_uri": "https://localhost:8080/"
    },
    "id": "L6fkwOeOmqvq",
    "outputId": "bdded620-79c4-488d-c7a5-91c6799c419e",
    "ExecuteTime": {
     "end_time": "2024-07-23T10:43:13.240116Z",
     "start_time": "2024-07-23T10:43:12.584421Z"
    }
   },
   "source": [
    "# 3. What is the average price for a four bedroom house sold in each year rounded to two decimal places?\n",
    "\n",
    "# SQL query to find the average price for a four-bedroom house sold in each year\n",
    "query = \"\"\"\n",
    "SELECT \n",
    "    year(date) as year,\n",
    "    ROUND(AVG(price), 2) as average_price\n",
    "FROM \n",
    "    home_sales\n",
    "WHERE \n",
    "    bedrooms = 4\n",
    "GROUP BY \n",
    "    year(date)\n",
    "ORDER BY \n",
    "    year\n",
    "\"\"\"\n",
    "\n",
    "# Execute the query\n",
    "average_price_df = spark.sql(query)\n",
    "\n",
    "# Show the results\n",
    "average_price_df.show()"
   ],
   "outputs": [
    {
     "name": "stdout",
     "output_type": "stream",
     "text": [
      "+----+-------------+\n",
      "|year|average_price|\n",
      "+----+-------------+\n",
      "|2019|     300263.7|\n",
      "|2020|    298353.78|\n",
      "|2021|    301819.44|\n",
      "|2022|    296363.88|\n",
      "+----+-------------+\n",
      "\n"
     ]
    }
   ],
   "execution_count": 14
  },
  {
   "cell_type": "code",
   "metadata": {
    "colab": {
     "base_uri": "https://localhost:8080/"
    },
    "id": "l8p_tUS8h8it",
    "outputId": "65806e5f-6262-41c0-ff65-5107464e5c4d",
    "ExecuteTime": {
     "end_time": "2024-07-23T10:47:21.762524Z",
     "start_time": "2024-07-23T10:47:21.291297Z"
    }
   },
   "source": [
    "# 4. What is the average price of a home for each year the home was built that have 3 bedrooms and 3 bathrooms rounded to two decimal places?\n",
    "\n",
    "# SQL query to find the average price of homes built each year with 3 bedrooms and 3 bathrooms\n",
    "\n",
    "query_2 = \"\"\"\n",
    "SELECT \n",
    "    date_built as year_built,\n",
    "    ROUND(AVG(price), 2) as average_price\n",
    "FROM \n",
    "    home_sales\n",
    "WHERE \n",
    "    bedrooms = 3 AND\n",
    "    bathrooms = 3\n",
    "GROUP BY \n",
    "    date_built\n",
    "ORDER BY \n",
    "    year_built\n",
    "\"\"\"\n",
    "\n",
    "# Execute the query\n",
    "average_price_2_df = spark.sql(query_2)\n",
    "\n",
    "# Show the results\n",
    "average_price_2_df.show()\n"
   ],
   "outputs": [
    {
     "name": "stdout",
     "output_type": "stream",
     "text": [
      "+----------+-------------+\n",
      "|year_built|average_price|\n",
      "+----------+-------------+\n",
      "|      2010|    292859.62|\n",
      "|      2011|    291117.47|\n",
      "|      2012|    293683.19|\n",
      "|      2013|    295962.27|\n",
      "|      2014|    290852.27|\n",
      "|      2015|     288770.3|\n",
      "|      2016|    290555.07|\n",
      "|      2017|    292676.79|\n",
      "+----------+-------------+\n",
      "\n"
     ]
    }
   ],
   "execution_count": 20
  },
  {
   "cell_type": "code",
   "metadata": {
    "colab": {
     "base_uri": "https://localhost:8080/"
    },
    "id": "Y-Eytz64liDU",
    "outputId": "17119810-56ad-40c3-de5e-c3db57e43bcc",
    "ExecuteTime": {
     "end_time": "2024-07-23T10:58:39.127989Z",
     "start_time": "2024-07-23T10:58:38.730730Z"
    }
   },
   "source": [
    "#  5. What is the average price of a home for each year built that have 3 bedrooms, 3 bathrooms, with two floors,\n",
    "# and are greater than or equal to 2,000 square feet rounded to two decimal places?\n",
    "\n",
    "# SQL query to find the average price of homes built each year with 3 bedrooms, 3 bathrooms, two floors, and >= 2,000 sqft\n",
    "query_3 = \"\"\"\n",
    "SELECT \n",
    "    date_built as year_built,\n",
    "    ROUND(AVG(price), 2) as average_price\n",
    "FROM \n",
    "    home_sales\n",
    "WHERE \n",
    "    bedrooms = 3 AND\n",
    "    bathrooms = 3 AND\n",
    "    floors = 2 AND\n",
    "    sqft_living >= 2000\n",
    "GROUP BY \n",
    "    date_built\n",
    "ORDER BY \n",
    "    year_built\n",
    "\"\"\"\n",
    "\n",
    "# Execute the query\n",
    "average_price_3_df = spark.sql(query_3)\n",
    "\n",
    "# Show the results\n",
    "average_price_3_df.show()"
   ],
   "outputs": [
    {
     "name": "stdout",
     "output_type": "stream",
     "text": [
      "+----------+-------------+\n",
      "|year_built|average_price|\n",
      "+----------+-------------+\n",
      "|      2010|    285010.22|\n",
      "|      2011|    276553.81|\n",
      "|      2012|    307539.97|\n",
      "|      2013|    303676.79|\n",
      "|      2014|    298264.72|\n",
      "|      2015|    297609.97|\n",
      "|      2016|     293965.1|\n",
      "|      2017|    280317.58|\n",
      "+----------+-------------+\n",
      "\n"
     ]
    }
   ],
   "execution_count": 21
  },
  {
   "cell_type": "code",
   "metadata": {
    "colab": {
     "base_uri": "https://localhost:8080/"
    },
    "id": "GUrfgOX1pCRd",
    "outputId": "17c25774-855e-4290-a4bd-a04902bdc13a",
    "ExecuteTime": {
     "end_time": "2024-07-23T11:00:14.292781Z",
     "start_time": "2024-07-23T11:00:13.780180Z"
    }
   },
   "source": [
    "# 6. What is the \"view\" rating for the average price of a home, rounded to two decimal places, where the homes are greater than\n",
    "# or equal to $350,000? Although this is a small dataset, determine the run time for this query.\n",
    "\n",
    "start_time = time.time()\n",
    "# SQL query to find the \"view\" rating for the average price of homes >= $350,000\n",
    "query_4 = \"\"\"\n",
    "SELECT \n",
    "    view,\n",
    "    ROUND(AVG(price), 2) as average_price\n",
    "FROM \n",
    "    home_sales\n",
    "WHERE \n",
    "    price >= 350000\n",
    "GROUP BY \n",
    "    view\n",
    "ORDER BY \n",
    "    average_price DESC\n",
    "\"\"\"\n",
    "\n",
    "# Execute the query\n",
    "view_rating_df = spark.sql(query_4)\n",
    "\n",
    "# Show the results\n",
    "view_rating_df.show()\n",
    "\n",
    "# print the runtime\n",
    "print(\"--- %s seconds ---\" % (time.time() - start_time))"
   ],
   "outputs": [
    {
     "name": "stdout",
     "output_type": "stream",
     "text": [
      "+----+-------------+\n",
      "|view|average_price|\n",
      "+----+-------------+\n",
      "|  91|   1137372.73|\n",
      "|  97|   1129040.15|\n",
      "|  84|   1117233.13|\n",
      "|  75|   1114042.94|\n",
      "|  89|   1107839.15|\n",
      "|  78|   1080649.37|\n",
      "|  77|   1076205.56|\n",
      "|  87|    1072285.2|\n",
      "|  86|   1070444.25|\n",
      "|  82|    1063498.0|\n",
      "|  90|   1062654.16|\n",
      "|  99|   1061201.42|\n",
      "|  76|   1058802.78|\n",
      "|  85|   1056336.74|\n",
      "|  95|    1054325.6|\n",
      "|  98|   1053739.33|\n",
      "|  81|   1053472.79|\n",
      "|  83|   1033965.93|\n",
      "|  94|    1033536.2|\n",
      "|  88|   1031719.35|\n",
      "+----+-------------+\n",
      "only showing top 20 rows\n",
      "\n",
      "--- 0.5082089900970459 seconds ---\n"
     ]
    }
   ],
   "execution_count": 22
  },
  {
   "cell_type": "code",
   "metadata": {
    "colab": {
     "base_uri": "https://localhost:8080/"
    },
    "id": "KAhk3ZD2tFy8",
    "outputId": "0a8f132d-40a8-4bd4-b5f2-2847e98427f5",
    "ExecuteTime": {
     "end_time": "2024-07-23T11:01:20.470077Z",
     "start_time": "2024-07-23T11:01:20.375164Z"
    }
   },
   "source": [
    "# 7. Cache the the temporary table home_sales.\n",
    "spark.catalog.cacheTable(\"home_sales\")"
   ],
   "outputs": [],
   "execution_count": 23
  },
  {
   "cell_type": "code",
   "metadata": {
    "colab": {
     "base_uri": "https://localhost:8080/"
    },
    "id": "4opVhbvxtL-i",
    "outputId": "38ec8487-795f-4550-b50c-fcc6f2b7c769",
    "ExecuteTime": {
     "end_time": "2024-07-23T11:01:21.319848Z",
     "start_time": "2024-07-23T11:01:21.303743Z"
    }
   },
   "source": [
    "# 8. Check if the table is cached.\n",
    "spark.catalog.isCached('home_sales')"
   ],
   "outputs": [
    {
     "data": {
      "text/plain": [
       "True"
      ]
     },
     "execution_count": 24,
     "metadata": {},
     "output_type": "execute_result"
    }
   ],
   "execution_count": 24
  },
  {
   "cell_type": "code",
   "metadata": {
    "colab": {
     "base_uri": "https://localhost:8080/"
    },
    "id": "5GnL46lwTSEk",
    "outputId": "09a16c73-194d-4371-95d1-ee64fe83b91c",
    "ExecuteTime": {
     "end_time": "2024-07-23T11:04:25.980482Z",
     "start_time": "2024-07-23T11:04:25.141318Z"
    }
   },
   "source": [
    "# 9. Using the cached data, run the query that filters out the view ratings with average price \n",
    "#  greater than or equal to $350,000. Determine the runtime and compare it to uncached runtime.\n",
    "\n",
    "start_time = time.time()\n",
    "\n",
    "# Execute the same query using cached data\n",
    "view_rating_cached_df = spark.sql(query_4)\n",
    "\n",
    "# Show the results\n",
    "view_rating_cached_df.show()\n",
    "\n",
    "print(\"--- %s seconds ---\" % (time.time() - start_time))\n"
   ],
   "outputs": [
    {
     "name": "stdout",
     "output_type": "stream",
     "text": [
      "+----+-------------+\n",
      "|view|average_price|\n",
      "+----+-------------+\n",
      "|  91|   1137372.73|\n",
      "|  97|   1129040.15|\n",
      "|  84|   1117233.13|\n",
      "|  75|   1114042.94|\n",
      "|  89|   1107839.15|\n",
      "|  78|   1080649.37|\n",
      "|  77|   1076205.56|\n",
      "|  87|    1072285.2|\n",
      "|  86|   1070444.25|\n",
      "|  82|    1063498.0|\n",
      "|  90|   1062654.16|\n",
      "|  99|   1061201.42|\n",
      "|  76|   1058802.78|\n",
      "|  85|   1056336.74|\n",
      "|  95|    1054325.6|\n",
      "|  98|   1053739.33|\n",
      "|  81|   1053472.79|\n",
      "|  83|   1033965.93|\n",
      "|  94|    1033536.2|\n",
      "|  88|   1031719.35|\n",
      "+----+-------------+\n",
      "only showing top 20 rows\n",
      "\n",
      "--- 0.8349189758300781 seconds ---\n"
     ]
    }
   ],
   "execution_count": 25
  },
  {
   "cell_type": "code",
   "metadata": {
    "id": "Qm12WN9isHBR",
    "ExecuteTime": {
     "end_time": "2024-07-23T11:11:55.939385Z",
     "start_time": "2024-07-23T11:11:55.936165Z"
    }
   },
   "source": [
    "# 10. Partition by the \"date_built\" field on the formatted parquet home sales data \n",
    "output_path = \"./parquet_files\"  # replace with your desired output path\n"
   ],
   "outputs": [],
   "execution_count": 36
  },
  {
   "cell_type": "code",
   "metadata": {
    "id": "AZ7BgY61sRqY",
    "ExecuteTime": {
     "end_time": "2024-07-23T11:11:57.498593Z",
     "start_time": "2024-07-23T11:11:56.889103Z"
    }
   },
   "source": [
    "# 11. Read the formatted parquet data.\n",
    "df.write.mode(\"overwrite\").partitionBy(\"date_built\").parquet(output_path)\n"
   ],
   "outputs": [],
   "execution_count": 37
  },
  {
   "cell_type": "code",
   "metadata": {
    "id": "J6MJkHfvVcvh",
    "ExecuteTime": {
     "end_time": "2024-07-23T11:13:09.977734Z",
     "start_time": "2024-07-23T11:13:09.681047Z"
    }
   },
   "source": [
    "# 12. Create a temporary table for the parquet data.\n",
    "parquet_df = spark.read.parquet(output_path)\n",
    "\n",
    "# Create a temporary view of the Parquet DataFrame\n",
    "parquet_df.createOrReplaceTempView(\"home_sales_parquet\")"
   ],
   "outputs": [],
   "execution_count": 38
  },
  {
   "cell_type": "code",
   "metadata": {
    "colab": {
     "base_uri": "https://localhost:8080/"
    },
    "id": "G_Vhb52rU1Sn",
    "outputId": "a0b8d0c4-55ed-4c6c-bfd8-4c8c5334838e",
    "ExecuteTime": {
     "end_time": "2024-07-23T11:15:16.994489Z",
     "start_time": "2024-07-23T11:15:16.211930Z"
    }
   },
   "source": [
    "# 13. Run the query that filters out the view ratings with average price of greater than or equal to $350,000 \n",
    "# with the parquet DataFrame. Round your average to two decimal places. \n",
    "# Determine the runtime and compare it to the cached version. \n",
    "\n",
    "start_time = time.time()\n",
    "\n",
    "# Execute the query using the Parquet DataFrame\n",
    "query_view_rating_parquet = \"\"\"\n",
    "SELECT \n",
    "    view,\n",
    "    ROUND(AVG(price), 2) as average_price\n",
    "FROM \n",
    "    home_sales_parquet\n",
    "WHERE \n",
    "    price >= 350000\n",
    "GROUP BY \n",
    "    view\n",
    "ORDER BY \n",
    "    average_price DESC\n",
    "\"\"\"\n",
    "\n",
    "view_rating_parquet_df = spark.sql(query_view_rating_parquet)\n",
    "\n",
    "# Show the results\n",
    "view_rating_parquet_df.show()\n",
    "\n",
    "print(\"--- %s seconds ---\" % (time.time() - start_time))"
   ],
   "outputs": [
    {
     "name": "stdout",
     "output_type": "stream",
     "text": [
      "+----+-------------+\n",
      "|view|average_price|\n",
      "+----+-------------+\n",
      "|  91|   1137372.73|\n",
      "|  97|   1129040.15|\n",
      "|  84|   1117233.13|\n",
      "|  75|   1114042.94|\n",
      "|  89|   1107839.15|\n",
      "|  78|   1080649.37|\n",
      "|  77|   1076205.56|\n",
      "|  87|    1072285.2|\n",
      "|  86|   1070444.25|\n",
      "|  82|    1063498.0|\n",
      "|  90|   1062654.16|\n",
      "|  99|   1061201.42|\n",
      "|  76|   1058802.78|\n",
      "|  85|   1056336.74|\n",
      "|  95|    1054325.6|\n",
      "|  98|   1053739.33|\n",
      "|  81|   1053472.79|\n",
      "|  83|   1033965.93|\n",
      "|  94|    1033536.2|\n",
      "|  88|   1031719.35|\n",
      "+----+-------------+\n",
      "only showing top 20 rows\n",
      "\n",
      "--- 0.7775187492370605 seconds ---\n"
     ]
    }
   ],
   "execution_count": 39
  },
  {
   "cell_type": "code",
   "metadata": {
    "colab": {
     "base_uri": "https://localhost:8080/"
    },
    "id": "hjjYzQGjtbq8",
    "outputId": "830549fd-bb41-451b-9183-5ebf6e3e470b",
    "ExecuteTime": {
     "end_time": "2024-07-23T11:16:28.433169Z",
     "start_time": "2024-07-23T11:16:28.406614Z"
    }
   },
   "source": [
    "# 14. Uncache the home_sales temporary table.\n",
    "spark.catalog.uncacheTable(\"home_sales\")"
   ],
   "outputs": [],
   "execution_count": 40
  },
  {
   "cell_type": "code",
   "metadata": {
    "colab": {
     "base_uri": "https://localhost:8080/"
    },
    "id": "Sy9NBvO7tlmm",
    "outputId": "be73e0e3-5e85-4794-aad9-025fb6fa84a7",
    "ExecuteTime": {
     "end_time": "2024-07-23T11:16:57.381468Z",
     "start_time": "2024-07-23T11:16:57.372913Z"
    }
   },
   "source": [
    "# 15. Check if the home_sales is no longer cached\n",
    "home_sales_is_cached = spark.catalog.isCached(\"home_sales\")\n",
    "print(f\"Is 'home_sales' cached? {home_sales_is_cached}\")\n"
   ],
   "outputs": [
    {
     "name": "stdout",
     "output_type": "stream",
     "text": [
      "Is 'home_sales' cached? False\n"
     ]
    }
   ],
   "execution_count": 41
  }
 ],
 "metadata": {
  "colab": {
   "collapsed_sections": [],
   "name": "Copy of Home_Sales_solution.ipynb",
   "provenance": []
  },
  "kernelspec": {
   "display_name": "Python 3 (ipykernel)",
   "language": "python",
   "name": "python3"
  },
  "language_info": {
   "codemirror_mode": {
    "name": "ipython",
    "version": 3
   },
   "file_extension": ".py",
   "mimetype": "text/x-python",
   "name": "python",
   "nbconvert_exporter": "python",
   "pygments_lexer": "ipython3",
   "version": "3.10.4"
  },
  "nteract": {
   "version": "0.28.0"
  }
 },
 "nbformat": 4,
 "nbformat_minor": 1
}
